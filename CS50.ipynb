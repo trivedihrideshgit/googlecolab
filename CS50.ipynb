{
  "nbformat": 4,
  "nbformat_minor": 0,
  "metadata": {
    "colab": {
      "provenance": [],
      "toc_visible": true,
      "authorship_tag": "ABX9TyOPqXld1ex7U9+hrQ1o4rFs",
      "include_colab_link": true
    },
    "kernelspec": {
      "name": "python3",
      "display_name": "Python 3"
    },
    "language_info": {
      "name": "python"
    }
  },
  "cells": [
    {
      "cell_type": "markdown",
      "metadata": {
        "id": "view-in-github",
        "colab_type": "text"
      },
      "source": [
        "<a href=\"https://colab.research.google.com/github/trivedihrideshgit/googlecolab/blob/main/CS50.ipynb\" target=\"_parent\"><img src=\"https://colab.research.google.com/assets/colab-badge.svg\" alt=\"Open In Colab\"/></a>"
      ]
    },
    {
      "cell_type": "code",
      "source": [
        "#ask user for their name\n",
        "name = input(\"whats your name? \")\n",
        "print(\"hello, name\")\n",
        "print(name)\n",
        "print(\"hello, \"  + name)#\n",
        "print(\"hello,\", name)"
      ],
      "metadata": {
        "colab": {
          "base_uri": "https://localhost:8080/"
        },
        "id": "0SHnVJm9JVso",
        "outputId": "4201f410-d815-448e-ee50-9a4866c28f10"
      },
      "execution_count": 9,
      "outputs": [
        {
          "output_type": "stream",
          "name": "stdout",
          "text": [
            "whats your name? ht\n",
            "hello, name\n",
            "ht\n",
            "hello, ht\n",
            "hello, ht\n"
          ]
        }
      ]
    }
  ]
}