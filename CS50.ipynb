{
  "nbformat": 4,
  "nbformat_minor": 0,
  "metadata": {
    "colab": {
      "provenance": [],
      "toc_visible": true,
      "authorship_tag": "ABX9TyOLcYEs+00j5GphWuGynQqD",
      "include_colab_link": true
    },
    "kernelspec": {
      "name": "python3",
      "display_name": "Python 3"
    },
    "language_info": {
      "name": "python"
    }
  },
  "cells": [
    {
      "cell_type": "markdown",
      "metadata": {
        "id": "view-in-github",
        "colab_type": "text"
      },
      "source": [
        "<a href=\"https://colab.research.google.com/github/trivedihrideshgit/googlecolab/blob/main/CS50.ipynb\" target=\"_parent\"><img src=\"https://colab.research.google.com/assets/colab-badge.svg\" alt=\"Open In Colab\"/></a>"
      ]
    },
    {
      "cell_type": "code",
      "source": [
        "#ask user for their name\n",
        "name = input(\"whats your name? \")\n",
        "#remove whitespace from str\n",
        "name = name.strip()\n",
        "#capitalize user's name\n",
        "name = name.capitalize()\n",
        "name = name.title()\n",
        "#say hello to user\n",
        "print(\"hello, \", end=\"\")\n",
        "print(name)\n",
        "print(\"hello, \"  + name)\n",
        "print(\"hello,\", name)\n",
        "print(\"hello,\", name,\"you\",  sep=\"??\")\n",
        "print(f\"hello, {name}\" )"
      ],
      "metadata": {
        "colab": {
          "base_uri": "https://localhost:8080/"
        },
        "id": "0SHnVJm9JVso",
        "outputId": "2a14676e-ca5f-4471-f7de-934148703445"
      },
      "execution_count": 14,
      "outputs": [
        {
          "output_type": "stream",
          "name": "stdout",
          "text": [
            "whats your name?     hridesh trivedi    \n",
            "hello, Hridesh Trivedi\n",
            "hello, Hridesh Trivedi\n",
            "hello, Hridesh Trivedi\n",
            "hello,??Hridesh Trivedi??you\n",
            "hello, Hridesh Trivedi\n"
          ]
        }
      ]
    },
    {
      "cell_type": "code",
      "source": [
        "name = input(\"What's your name? \").strip().title()\n",
        "print(f\"Hello, {name}\")"
      ],
      "metadata": {
        "id": "6u5CXpFpUM-n",
        "outputId": "42c93b7f-58a9-4689-cba1-3ee612e4e854",
        "colab": {
          "base_uri": "https://localhost:8080/"
        }
      },
      "execution_count": 16,
      "outputs": [
        {
          "output_type": "stream",
          "name": "stdout",
          "text": [
            "What's your name?    hridesh trivedi    \n",
            "Hello, Hridesh Trivedi\n"
          ]
        }
      ]
    },
    {
      "cell_type": "code",
      "source": [
        "name = input(\"whats your name? \").strip().title()\n",
        "first, middle, last = name.split(\" \")\n",
        "print(f\"Hello, {middle}\")"
      ],
      "metadata": {
        "id": "MvtwTIVyWs48",
        "outputId": "052d3f0b-fd63-4752-a0f2-52af6ff6cd4f",
        "colab": {
          "base_uri": "https://localhost:8080/"
        }
      },
      "execution_count": 19,
      "outputs": [
        {
          "output_type": "stream",
          "name": "stdout",
          "text": [
            "whats your name? hridesh kumar trivedi\n",
            "Hello, Kumar\n"
          ]
        }
      ]
    }
  ]
}